{
 "cells": [
  {
   "cell_type": "markdown",
   "metadata": {},
   "source": [
    "# Gausscount analysis for scan 13\n",
    "An example of how to run gausscount"
   ]
  },
  {
   "cell_type": "code",
   "execution_count": 1,
   "metadata": {
    "tags": []
   },
   "outputs": [],
   "source": [
    "import sys\n",
    "sys.path.insert(0,'..')\n",
    "\n",
    "from gausscount import counting\n",
    "from gausscount import profile\n",
    "\n",
    "import h5py\n",
    "import numpy as np\n",
    "import os\n",
    "import pandas as pd\n",
    "import matplotlib.pyplot as plt\n",
    "\n",
    "from matplotlib.colors import LogNorm"
   ]
  },
  {
   "cell_type": "code",
   "execution_count": 2,
   "metadata": {
    "tags": []
   },
   "outputs": [],
   "source": [
    "# Key files\n",
    "raw_file = \"/pscratch/sd/j/jrenner1/data_scan0000000013.h5\"\n",
    "counted_file = \"/global/cfs/cdirs/ncemhub/jrenner1/scan13/counted_gauss_prior_scan0000000013_lowth.h5\"\n",
    "\n",
    "th_single_elec = 10\n",
    "baseline = 20.0"
   ]
  },
  {
   "cell_type": "code",
   "execution_count": null,
   "metadata": {},
   "outputs": [],
   "source": [
    "fn = h5py.File(raw_file,'r')\n",
    "imgs = fn['stem']['images']\n",
    "frames = fn['frames']\n",
    "imgs"
   ]
  },
  {
   "cell_type": "code",
   "execution_count": null,
   "metadata": {
    "tags": []
   },
   "outputs": [],
   "source": [
    "fn = h5py.File(counted_file,'r')\n",
    "fn['electron_events/frames'][110*2064]"
   ]
  },
  {
   "cell_type": "markdown",
   "metadata": {
    "tags": []
   },
   "source": [
    "#### Determine the single-electron \"Gaussian\" profile"
   ]
  },
  {
   "cell_type": "code",
   "execution_count": null,
   "metadata": {
    "tags": []
   },
   "outputs": [],
   "source": [
    "nframes_profile = 1000\n",
    "profile_file = raw_file\n",
    "avg_patch, optimized_patch, A_opt, sigma_opt = profile.gaussian_profile(profile_file, nframes_profile, baseline, th_single_elec, plot_results=True)\n",
    "print(f\"Determined optimal gaussian amplitude A = {A_opt}, sigma = {sigma_opt}\")"
   ]
  },
  {
   "cell_type": "markdown",
   "metadata": {
    "tags": []
   },
   "source": [
    "#### Perform the counting\n",
    "Use selected values of A and sigma"
   ]
  },
  {
   "cell_type": "code",
   "execution_count": 3,
   "metadata": {
    "tags": []
   },
   "outputs": [],
   "source": [
    "# found: A = 32.73370388682819, sigma = 1.3240527365974009\n",
    "frame_width = 576\n",
    "gauss_A = 15 #19.032279882831432\n",
    "gauss_sigma = 0.6 #0.5065158792172835"
   ]
  },
  {
   "cell_type": "code",
   "execution_count": null,
   "metadata": {
    "tags": []
   },
   "outputs": [],
   "source": [
    "# Count the dataset (one may want to first count 1 batch to evaluate the loss)\n",
    "nframes_prior = 1000\n",
    "frames_per_batch = 2064\n",
    "losses = counting.count_frames(raw_file, counted_file, frames_per_batch, \n",
    "                               th_single_elec, baseline, gauss_A, gauss_sigma, \n",
    "                               loss_per_frame_stop=0.5, n_steps_max=3000,\n",
    "                               min_loss_patience = 100, min_loss_improvement = 0.01,\n",
    "                               batch_start=65, nframes_prior=nframes_prior)"
   ]
  },
  {
   "cell_type": "code",
   "execution_count": 5,
   "metadata": {
    "tags": []
   },
   "outputs": [
    {
     "data": {
      "text/plain": [
       "Text(0, 0.5, 'Loss')"
      ]
     },
     "execution_count": 5,
     "metadata": {},
     "output_type": "execute_result"
    },
    {
     "data": {
      "image/png": "[encoded data removed]",
      "text/plain": [
       "<Figure size 640x480 with 1 Axes>"
      ]
     },
     "metadata": {},
     "output_type": "display_data"
    }
   ],
   "source": [
    "# Plot a loss curve\n",
    "plt.plot(losses[0][0])\n",
    "plt.xlabel('Step',fontsize=14)\n",
    "plt.ylabel('Loss',fontsize=14)"
   ]
  },
  {
   "cell_type": "code",
   "execution_count": null,
   "metadata": {},
   "outputs": [],
   "source": []
  },
  {
   "cell_type": "code",
   "execution_count": null,
   "metadata": {},
   "outputs": [],
   "source": []
  }
 ],
 "metadata": {
  "kernelspec": {
   "display_name": "Python 3 (ipykernel)",
   "language": "python",
   "name": "python3"
  },
  "language_info": {
   "codemirror_mode": {
    "name": "ipython",
    "version": 3
   },
   "file_extension": ".py",
   "mimetype": "text/x-python",
   "name": "python",
   "nbconvert_exporter": "python",
   "pygments_lexer": "ipython3",
   "version": "3.9.6"
  }
 },
 "nbformat": 4,
 "nbformat_minor": 4
}
